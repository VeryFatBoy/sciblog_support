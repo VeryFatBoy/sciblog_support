{
 "cells": [
  {
   "cell_type": "markdown",
   "id": "2330dbe5",
   "metadata": {},
   "source": [
    "# Gradient Boosting Decision Trees with LightGBM and XGBoost"
   ]
  },
  {
   "cell_type": "code",
   "execution_count": 1,
   "id": "32d73ac9",
   "metadata": {},
   "outputs": [
    {
     "name": "stdout",
     "output_type": "stream",
     "text": [
      "Numpy version:1.22.3\n",
      "Pandas version:1.4.1\n",
      "Sklearn version:1.0.2\n",
      "LightGBM version:3.3.2\n",
      "XGBoost version:1.5.2\n"
     ]
    }
   ],
   "source": [
    "import warnings \n",
    "warnings.filterwarnings (\"ignore\")\n",
    "\n",
    "import numpy as np\n",
    "import pandas as pd\n",
    "import sklearn\n",
    "import lightgbm as lgb\n",
    "import xgboost as xgb\n",
    "import json\n",
    "\n",
    "from utils import (Timer, load_airline, convert_related_cols_categorical_to_numeric, \n",
    "                  convert_cols_categorical_to_numeric, binarize_prediction,\n",
    "                  classification_metrics_binary, classification_metrics_binary_prob)\n",
    "\n",
    "print(f\"Numpy version:{np.__version__}\")\n",
    "print(f\"Pandas version:{pd.__version__}\")\n",
    "print(f\"Sklearn version:{sklearn.__version__}\")\n",
    "print(f\"LightGBM version:{lgb.__version__}\")\n",
    "print(f\"XGBoost version:{xgb.__version__}\")"
   ]
  },
  {
   "cell_type": "markdown",
   "id": "6f64bfb1",
   "metadata": {},
   "source": [
    "## Gradient tree boosting\n",
    "\n",
    "Gradient boosting is a machine learning technique that produces a prediction model in the form of an ensemble of weak classifiers. One of the most popular types of gradient boosting is gradient boosted decision trees (GBDT), that internally is made up of an ensemble of weak decision trees.\n",
    "\n",
    "The two most popular GBDT frameworks are XGBoost and LightGBM. Both frameworks uses efficient and scalable implementations for gradient boosting that can be used for classification and regression.\n",
    "\n",
    "Boosting is a technique that builds strong classifiers by sequentially emsambling weak ones. First, a model is trained on the data. Then a second model tries to correct the errors found in the first model. This process is repeated until the error is reduced to a limit or a maximum number of models is added.\n",
    "\n",
    "In ADA boost, we take the data points that had bad performance and they are weighted more in the next model. In gradient boosting, we take the residual, which is the difference between the true labels $y$ and the labels predicted by the model $\\hat y$.\n",
    "\n",
    "* For the first estimator, the residual is $y - f_1(x)$.\n",
    "* For the second estimator, the residual is $y - f_1(x) - f_2(x)$.\n",
    "* For the $n^{th}$ estimator, the residual is $y - \\sum_{i=1}^n f_n(x)$\n",
    "\n",
    "To train the GBDT, we want to minimize a loss which the difference between the true and predicted labels and we add a regularization term $\\Omega$ to reduce the complexity of the model.\n",
    "\n",
    "$$ \\mathcal {L} = \\sum_{i=1}^n l(y_i, \\hat y_i) + \\sum_{i=1}^n \\Omega (f_i)$$\n",
    "\n",
    "\n",
    "The loss term $\\sum_{i=1}^n l(y_i, \\hat y_i)$ is not easy to compute, one way is via a Taylor expansion. A Taylor expansion is a way to approximate a complex function based on its derivative (gradient or Jacobian) and second derivate (Hessian). In particular, the hessian is not easy to compute, and this is one of the reasons finding the right split in gradient boosting trees can be difficult.\n",
    "\n",
    "There are two different strategies to compute the trees: level-wise and leaf-wise. \n",
    "\n",
    "<img src=\"img/DecisionTrees_3_thumb.png\" />\n",
    "\n",
    "The level-wise strategy grows the tree level by level. In this strategy, each node splits the data prioritizing the nodes closer to the tree root. The leaf-wise strategy grows the tree by splitting the data at the nodes with the highest loss change. \n",
    "\n",
    "Level-wise growth is usually better for smaller datasets whereas leaf-wise tends to overfit. Leaf-wise growth tends to excel in larger datasets where it is considerably faster than level-wise growth.\n",
    "\n",
    "A key challenge in training boosted decision trees is the computational cost of finding the best split for each leaf. Conventional techniques find the exact split for each leaf, and require scanning through all the data in each iteration. \n",
    "\n",
    "A different approach approximates the split by building histograms of the features. That way, the algorithm doesn't need to evaluate every single value of the features to compute the split, but only the bins of the histogram, which are bounded. This approach turns out to be much more efficient for large datasets, without adversely affecting accuracy.\n",
    "\n",
    "## XGBoost vs LightGBM\n",
    "\n",
    "XGBoost started in 2014, and it has become popular due to its use in many winning Kaggle competition entries. Originally XGBoost was based on a level-wise growth algorithm, but then they added an option for leaf-wise growth that implements split approximation using histograms. We refer to this version as XGBoost hist. \n",
    "\n",
    "LightGBM is a more recent arrival, started in March 2016 and open-sourced in August 2016. It is based on a leaf-wise algorithm and histogram approximation, and has attracted a lot of attention due to its speed. \n",
    "\n",
    "Apart from multithreaded CPU implementations, GPU acceleration is now available on both XGBoost and LightGBM too."
   ]
  },
  {
   "cell_type": "markdown",
   "id": "29259979",
   "metadata": {},
   "source": [
    "## Airline dataset\n",
    "\n",
    "The Airline dataset contains flight arrival and departure details for all the commercial flights within the USA, from October 1987 to April 2008. Its size is around 116 million records and 5.76 GB of memory. It has 13 features plus the target. The target attribute is Arrival Delay, it is a positive or negative value measured in minutes.\n",
    "\n",
    "To download the dataset:\n",
    "\n",
    "```bash\n",
    "cd data\n",
    "wget http://kt.ijs.si/elena_ikonomovska/datasets/airline/airline_14col.data.bz2\n",
    "bzip2 -dk airline_14col.data.bz2\n",
    "```\n",
    "\n",
    "In this notebook, we are going to set a classification problem where the goal is to **classify wheather a flight has arrived delayed or not.**"
   ]
  },
  {
   "cell_type": "code",
   "execution_count": 2,
   "id": "88f92762",
   "metadata": {},
   "outputs": [],
   "source": [
    "N_ROWS = 10000000"
   ]
  },
  {
   "cell_type": "code",
   "execution_count": 3,
   "id": "0add5df7",
   "metadata": {},
   "outputs": [
    {
     "name": "stdout",
     "output_type": "stream",
     "text": [
      "(10000000, 14)\n",
      "CPU times: user 7.3 s, sys: 3.85 s, total: 11.2 s\n",
      "Wall time: 11.1 s\n"
     ]
    }
   ],
   "source": [
    "%%time\n",
    "df_plane = load_airline(nrows=N_ROWS)\n",
    "print(df_plane.shape)"
   ]
  },
  {
   "cell_type": "code",
   "execution_count": 4,
   "id": "197c8369",
   "metadata": {},
   "outputs": [
    {
     "data": {
      "text/html": [
       "<div>\n",
       "<style scoped>\n",
       "    .dataframe tbody tr th:only-of-type {\n",
       "        vertical-align: middle;\n",
       "    }\n",
       "\n",
       "    .dataframe tbody tr th {\n",
       "        vertical-align: top;\n",
       "    }\n",
       "\n",
       "    .dataframe thead th {\n",
       "        text-align: right;\n",
       "    }\n",
       "</style>\n",
       "<table border=\"1\" class=\"dataframe\">\n",
       "  <thead>\n",
       "    <tr style=\"text-align: right;\">\n",
       "      <th></th>\n",
       "      <th>Year</th>\n",
       "      <th>Month</th>\n",
       "      <th>DayofMonth</th>\n",
       "      <th>DayofWeek</th>\n",
       "      <th>CRSDepTime</th>\n",
       "      <th>CRSArrTime</th>\n",
       "      <th>UniqueCarrier</th>\n",
       "      <th>FlightNum</th>\n",
       "      <th>ActualElapsedTime</th>\n",
       "      <th>Origin</th>\n",
       "      <th>Dest</th>\n",
       "      <th>Distance</th>\n",
       "      <th>Diverted</th>\n",
       "      <th>ArrDelay</th>\n",
       "    </tr>\n",
       "  </thead>\n",
       "  <tbody>\n",
       "    <tr>\n",
       "      <th>0</th>\n",
       "      <td>1987</td>\n",
       "      <td>10</td>\n",
       "      <td>1</td>\n",
       "      <td>4</td>\n",
       "      <td>1</td>\n",
       "      <td>556</td>\n",
       "      <td>AA</td>\n",
       "      <td>190</td>\n",
       "      <td>247</td>\n",
       "      <td>SFO</td>\n",
       "      <td>ORD</td>\n",
       "      <td>1846</td>\n",
       "      <td>0</td>\n",
       "      <td>27</td>\n",
       "    </tr>\n",
       "    <tr>\n",
       "      <th>1</th>\n",
       "      <td>1987</td>\n",
       "      <td>10</td>\n",
       "      <td>1</td>\n",
       "      <td>4</td>\n",
       "      <td>5</td>\n",
       "      <td>114</td>\n",
       "      <td>EA</td>\n",
       "      <td>57</td>\n",
       "      <td>74</td>\n",
       "      <td>LAX</td>\n",
       "      <td>SFO</td>\n",
       "      <td>337</td>\n",
       "      <td>0</td>\n",
       "      <td>5</td>\n",
       "    </tr>\n",
       "    <tr>\n",
       "      <th>2</th>\n",
       "      <td>1987</td>\n",
       "      <td>10</td>\n",
       "      <td>1</td>\n",
       "      <td>4</td>\n",
       "      <td>5</td>\n",
       "      <td>35</td>\n",
       "      <td>HP</td>\n",
       "      <td>351</td>\n",
       "      <td>167</td>\n",
       "      <td>ICT</td>\n",
       "      <td>LAS</td>\n",
       "      <td>987</td>\n",
       "      <td>0</td>\n",
       "      <td>17</td>\n",
       "    </tr>\n",
       "    <tr>\n",
       "      <th>3</th>\n",
       "      <td>1987</td>\n",
       "      <td>10</td>\n",
       "      <td>1</td>\n",
       "      <td>4</td>\n",
       "      <td>5</td>\n",
       "      <td>40</td>\n",
       "      <td>DL</td>\n",
       "      <td>251</td>\n",
       "      <td>35</td>\n",
       "      <td>MCO</td>\n",
       "      <td>PBI</td>\n",
       "      <td>142</td>\n",
       "      <td>0</td>\n",
       "      <td>-2</td>\n",
       "    </tr>\n",
       "    <tr>\n",
       "      <th>4</th>\n",
       "      <td>1987</td>\n",
       "      <td>10</td>\n",
       "      <td>1</td>\n",
       "      <td>4</td>\n",
       "      <td>8</td>\n",
       "      <td>517</td>\n",
       "      <td>UA</td>\n",
       "      <td>500</td>\n",
       "      <td>208</td>\n",
       "      <td>LAS</td>\n",
       "      <td>ORD</td>\n",
       "      <td>1515</td>\n",
       "      <td>0</td>\n",
       "      <td>17</td>\n",
       "    </tr>\n",
       "  </tbody>\n",
       "</table>\n",
       "</div>"
      ],
      "text/plain": [
       "   Year  Month  DayofMonth  DayofWeek  CRSDepTime  CRSArrTime UniqueCarrier  \\\n",
       "0  1987     10           1          4           1         556            AA   \n",
       "1  1987     10           1          4           5         114            EA   \n",
       "2  1987     10           1          4           5          35            HP   \n",
       "3  1987     10           1          4           5          40            DL   \n",
       "4  1987     10           1          4           8         517            UA   \n",
       "\n",
       "   FlightNum  ActualElapsedTime Origin Dest  Distance  Diverted  ArrDelay  \n",
       "0        190                247    SFO  ORD      1846         0        27  \n",
       "1         57                 74    LAX  SFO       337         0         5  \n",
       "2        351                167    ICT  LAS       987         0        17  \n",
       "3        251                 35    MCO  PBI       142         0        -2  \n",
       "4        500                208    LAS  ORD      1515         0        17  "
      ]
     },
     "execution_count": 4,
     "metadata": {},
     "output_type": "execute_result"
    }
   ],
   "source": [
    "df_plane.head()"
   ]
  },
  {
   "cell_type": "markdown",
   "id": "f73dd7b7",
   "metadata": {},
   "source": [
    "The first step is to convert the categorical features to numeric features."
   ]
  },
  {
   "cell_type": "code",
   "execution_count": 5,
   "id": "7f96ce9a",
   "metadata": {},
   "outputs": [
    {
     "name": "stdout",
     "output_type": "stream",
     "text": [
      "CPU times: user 8.84 s, sys: 1.48 s, total: 10.3 s\n",
      "Wall time: 10.3 s\n"
     ]
    }
   ],
   "source": [
    "%%time\n",
    "df_plane_numeric = convert_related_cols_categorical_to_numeric(df_plane, col_list=['Origin','Dest'])\n",
    "del df_plane"
   ]
  },
  {
   "cell_type": "code",
   "execution_count": 6,
   "id": "efecf10a",
   "metadata": {},
   "outputs": [
    {
     "data": {
      "text/html": [
       "<div>\n",
       "<style scoped>\n",
       "    .dataframe tbody tr th:only-of-type {\n",
       "        vertical-align: middle;\n",
       "    }\n",
       "\n",
       "    .dataframe tbody tr th {\n",
       "        vertical-align: top;\n",
       "    }\n",
       "\n",
       "    .dataframe thead th {\n",
       "        text-align: right;\n",
       "    }\n",
       "</style>\n",
       "<table border=\"1\" class=\"dataframe\">\n",
       "  <thead>\n",
       "    <tr style=\"text-align: right;\">\n",
       "      <th></th>\n",
       "      <th>Year</th>\n",
       "      <th>Month</th>\n",
       "      <th>DayofMonth</th>\n",
       "      <th>DayofWeek</th>\n",
       "      <th>CRSDepTime</th>\n",
       "      <th>CRSArrTime</th>\n",
       "      <th>UniqueCarrier</th>\n",
       "      <th>FlightNum</th>\n",
       "      <th>ActualElapsedTime</th>\n",
       "      <th>Origin</th>\n",
       "      <th>Dest</th>\n",
       "      <th>Distance</th>\n",
       "      <th>Diverted</th>\n",
       "      <th>ArrDelay</th>\n",
       "    </tr>\n",
       "  </thead>\n",
       "  <tbody>\n",
       "    <tr>\n",
       "      <th>0</th>\n",
       "      <td>1987</td>\n",
       "      <td>10</td>\n",
       "      <td>1</td>\n",
       "      <td>4</td>\n",
       "      <td>1</td>\n",
       "      <td>556</td>\n",
       "      <td>AA</td>\n",
       "      <td>190</td>\n",
       "      <td>247</td>\n",
       "      <td>0</td>\n",
       "      <td>33</td>\n",
       "      <td>1846</td>\n",
       "      <td>0</td>\n",
       "      <td>27</td>\n",
       "    </tr>\n",
       "    <tr>\n",
       "      <th>1</th>\n",
       "      <td>1987</td>\n",
       "      <td>10</td>\n",
       "      <td>1</td>\n",
       "      <td>4</td>\n",
       "      <td>5</td>\n",
       "      <td>114</td>\n",
       "      <td>EA</td>\n",
       "      <td>57</td>\n",
       "      <td>74</td>\n",
       "      <td>1</td>\n",
       "      <td>0</td>\n",
       "      <td>337</td>\n",
       "      <td>0</td>\n",
       "      <td>5</td>\n",
       "    </tr>\n",
       "    <tr>\n",
       "      <th>2</th>\n",
       "      <td>1987</td>\n",
       "      <td>10</td>\n",
       "      <td>1</td>\n",
       "      <td>4</td>\n",
       "      <td>5</td>\n",
       "      <td>35</td>\n",
       "      <td>HP</td>\n",
       "      <td>351</td>\n",
       "      <td>167</td>\n",
       "      <td>2</td>\n",
       "      <td>4</td>\n",
       "      <td>987</td>\n",
       "      <td>0</td>\n",
       "      <td>17</td>\n",
       "    </tr>\n",
       "    <tr>\n",
       "      <th>3</th>\n",
       "      <td>1987</td>\n",
       "      <td>10</td>\n",
       "      <td>1</td>\n",
       "      <td>4</td>\n",
       "      <td>5</td>\n",
       "      <td>40</td>\n",
       "      <td>DL</td>\n",
       "      <td>251</td>\n",
       "      <td>35</td>\n",
       "      <td>3</td>\n",
       "      <td>41</td>\n",
       "      <td>142</td>\n",
       "      <td>0</td>\n",
       "      <td>-2</td>\n",
       "    </tr>\n",
       "    <tr>\n",
       "      <th>4</th>\n",
       "      <td>1987</td>\n",
       "      <td>10</td>\n",
       "      <td>1</td>\n",
       "      <td>4</td>\n",
       "      <td>8</td>\n",
       "      <td>517</td>\n",
       "      <td>UA</td>\n",
       "      <td>500</td>\n",
       "      <td>208</td>\n",
       "      <td>4</td>\n",
       "      <td>33</td>\n",
       "      <td>1515</td>\n",
       "      <td>0</td>\n",
       "      <td>17</td>\n",
       "    </tr>\n",
       "  </tbody>\n",
       "</table>\n",
       "</div>"
      ],
      "text/plain": [
       "   Year  Month  DayofMonth  DayofWeek  CRSDepTime  CRSArrTime UniqueCarrier  \\\n",
       "0  1987     10           1          4           1         556            AA   \n",
       "1  1987     10           1          4           5         114            EA   \n",
       "2  1987     10           1          4           5          35            HP   \n",
       "3  1987     10           1          4           5          40            DL   \n",
       "4  1987     10           1          4           8         517            UA   \n",
       "\n",
       "   FlightNum  ActualElapsedTime  Origin  Dest  Distance  Diverted  ArrDelay  \n",
       "0        190                247       0    33      1846         0        27  \n",
       "1         57                 74       1     0       337         0         5  \n",
       "2        351                167       2     4       987         0        17  \n",
       "3        251                 35       3    41       142         0        -2  \n",
       "4        500                208       4    33      1515         0        17  "
      ]
     },
     "execution_count": 6,
     "metadata": {},
     "output_type": "execute_result"
    }
   ],
   "source": [
    "df_plane_numeric.head()"
   ]
  },
  {
   "cell_type": "code",
   "execution_count": 7,
   "id": "0ff6a73e",
   "metadata": {},
   "outputs": [
    {
     "name": "stdout",
     "output_type": "stream",
     "text": [
      "CPU times: user 5.53 s, sys: 853 ms, total: 6.38 s\n",
      "Wall time: 6.36 s\n"
     ]
    }
   ],
   "source": [
    "%%time\n",
    "df_plane_numeric = convert_cols_categorical_to_numeric(df_plane_numeric, col_list='UniqueCarrier')"
   ]
  },
  {
   "cell_type": "markdown",
   "id": "8433958b",
   "metadata": {},
   "source": [
    "To simplify the pipeline, we are going to set a classification problem where the goal is to classify wheather a flight has arrived delayed or not. For that we need to binarize the variable `ArrDelay`.\n",
    "\n",
    "If you want to extend this experiment, you can set a regression problem and try to identify the number of minutes of delay a fight has. Both XGBoost and LightGBM have regression classes."
   ]
  },
  {
   "cell_type": "code",
   "execution_count": 8,
   "id": "084c2f3f",
   "metadata": {},
   "outputs": [],
   "source": [
    "df_plane_numeric = df_plane_numeric.apply(lambda x: x.astype('int16'))"
   ]
  },
  {
   "cell_type": "code",
   "execution_count": 9,
   "id": "1c2a6132",
   "metadata": {},
   "outputs": [
    {
     "name": "stdout",
     "output_type": "stream",
     "text": [
      "CPU times: user 67.8 ms, sys: 106 ms, total: 174 ms\n",
      "Wall time: 51.9 ms\n"
     ]
    }
   ],
   "source": [
    "%%time\n",
    "df_plane_numeric['ArrDelayBinary'] = 1*(df_plane_numeric['ArrDelay'] > 0)"
   ]
  },
  {
   "cell_type": "code",
   "execution_count": 10,
   "id": "3922d714",
   "metadata": {},
   "outputs": [
    {
     "data": {
      "text/html": [
       "<div>\n",
       "<style scoped>\n",
       "    .dataframe tbody tr th:only-of-type {\n",
       "        vertical-align: middle;\n",
       "    }\n",
       "\n",
       "    .dataframe tbody tr th {\n",
       "        vertical-align: top;\n",
       "    }\n",
       "\n",
       "    .dataframe thead th {\n",
       "        text-align: right;\n",
       "    }\n",
       "</style>\n",
       "<table border=\"1\" class=\"dataframe\">\n",
       "  <thead>\n",
       "    <tr style=\"text-align: right;\">\n",
       "      <th></th>\n",
       "      <th>Year</th>\n",
       "      <th>Month</th>\n",
       "      <th>DayofMonth</th>\n",
       "      <th>DayofWeek</th>\n",
       "      <th>CRSDepTime</th>\n",
       "      <th>CRSArrTime</th>\n",
       "      <th>UniqueCarrier</th>\n",
       "      <th>FlightNum</th>\n",
       "      <th>ActualElapsedTime</th>\n",
       "      <th>Origin</th>\n",
       "      <th>Dest</th>\n",
       "      <th>Distance</th>\n",
       "      <th>Diverted</th>\n",
       "      <th>ArrDelay</th>\n",
       "      <th>ArrDelayBinary</th>\n",
       "    </tr>\n",
       "  </thead>\n",
       "  <tbody>\n",
       "    <tr>\n",
       "      <th>0</th>\n",
       "      <td>1987</td>\n",
       "      <td>10</td>\n",
       "      <td>1</td>\n",
       "      <td>4</td>\n",
       "      <td>1</td>\n",
       "      <td>556</td>\n",
       "      <td>0</td>\n",
       "      <td>190</td>\n",
       "      <td>247</td>\n",
       "      <td>0</td>\n",
       "      <td>33</td>\n",
       "      <td>1846</td>\n",
       "      <td>0</td>\n",
       "      <td>27</td>\n",
       "      <td>1</td>\n",
       "    </tr>\n",
       "    <tr>\n",
       "      <th>1</th>\n",
       "      <td>1987</td>\n",
       "      <td>10</td>\n",
       "      <td>1</td>\n",
       "      <td>4</td>\n",
       "      <td>5</td>\n",
       "      <td>114</td>\n",
       "      <td>1</td>\n",
       "      <td>57</td>\n",
       "      <td>74</td>\n",
       "      <td>1</td>\n",
       "      <td>0</td>\n",
       "      <td>337</td>\n",
       "      <td>0</td>\n",
       "      <td>5</td>\n",
       "      <td>1</td>\n",
       "    </tr>\n",
       "    <tr>\n",
       "      <th>2</th>\n",
       "      <td>1987</td>\n",
       "      <td>10</td>\n",
       "      <td>1</td>\n",
       "      <td>4</td>\n",
       "      <td>5</td>\n",
       "      <td>35</td>\n",
       "      <td>2</td>\n",
       "      <td>351</td>\n",
       "      <td>167</td>\n",
       "      <td>2</td>\n",
       "      <td>4</td>\n",
       "      <td>987</td>\n",
       "      <td>0</td>\n",
       "      <td>17</td>\n",
       "      <td>1</td>\n",
       "    </tr>\n",
       "    <tr>\n",
       "      <th>3</th>\n",
       "      <td>1987</td>\n",
       "      <td>10</td>\n",
       "      <td>1</td>\n",
       "      <td>4</td>\n",
       "      <td>5</td>\n",
       "      <td>40</td>\n",
       "      <td>3</td>\n",
       "      <td>251</td>\n",
       "      <td>35</td>\n",
       "      <td>3</td>\n",
       "      <td>41</td>\n",
       "      <td>142</td>\n",
       "      <td>0</td>\n",
       "      <td>-2</td>\n",
       "      <td>0</td>\n",
       "    </tr>\n",
       "    <tr>\n",
       "      <th>4</th>\n",
       "      <td>1987</td>\n",
       "      <td>10</td>\n",
       "      <td>1</td>\n",
       "      <td>4</td>\n",
       "      <td>8</td>\n",
       "      <td>517</td>\n",
       "      <td>4</td>\n",
       "      <td>500</td>\n",
       "      <td>208</td>\n",
       "      <td>4</td>\n",
       "      <td>33</td>\n",
       "      <td>1515</td>\n",
       "      <td>0</td>\n",
       "      <td>17</td>\n",
       "      <td>1</td>\n",
       "    </tr>\n",
       "  </tbody>\n",
       "</table>\n",
       "</div>"
      ],
      "text/plain": [
       "   Year  Month  DayofMonth  DayofWeek  CRSDepTime  CRSArrTime  UniqueCarrier  \\\n",
       "0  1987     10           1          4           1         556              0   \n",
       "1  1987     10           1          4           5         114              1   \n",
       "2  1987     10           1          4           5          35              2   \n",
       "3  1987     10           1          4           5          40              3   \n",
       "4  1987     10           1          4           8         517              4   \n",
       "\n",
       "   FlightNum  ActualElapsedTime  Origin  Dest  Distance  Diverted  ArrDelay  \\\n",
       "0        190                247       0    33      1846         0        27   \n",
       "1         57                 74       1     0       337         0         5   \n",
       "2        351                167       2     4       987         0        17   \n",
       "3        251                 35       3    41       142         0        -2   \n",
       "4        500                208       4    33      1515         0        17   \n",
       "\n",
       "   ArrDelayBinary  \n",
       "0               1  \n",
       "1               1  \n",
       "2               1  \n",
       "3               0  \n",
       "4               1  "
      ]
     },
     "execution_count": 10,
     "metadata": {},
     "output_type": "execute_result"
    }
   ],
   "source": [
    "df_plane_numeric.head()"
   ]
  },
  {
   "cell_type": "markdown",
   "id": "d4f01d20",
   "metadata": {},
   "source": [
    "Once the features are prepared, let's split the dataset into train and test set. We won't use validation for this example (however, you can try to add it)."
   ]
  },
  {
   "cell_type": "code",
   "execution_count": 11,
   "id": "6cb3e5ef",
   "metadata": {},
   "outputs": [],
   "source": [
    "def split_train_val_test_df(df, val_size=0.2, test_size=0.2):\n",
    "    train, validate, test = np.split(\n",
    "        df.sample(frac=1),\n",
    "        [int((1 - val_size - test_size) * len(df)), int((1 - test_size) * len(df))],\n",
    "    )\n",
    "    return train, validate, test\n",
    "\n",
    "def generate_feables(df):\n",
    "    X = df[df.columns.difference(['ArrDelay', 'ArrDelayBinary'])]\n",
    "    y = df['ArrDelayBinary']\n",
    "    return X,y"
   ]
  },
  {
   "cell_type": "code",
   "execution_count": 12,
   "id": "741f0c7c",
   "metadata": {},
   "outputs": [
    {
     "name": "stdout",
     "output_type": "stream",
     "text": [
      "(8000000, 15)\n",
      "(0, 15)\n",
      "(2000000, 15)\n",
      "CPU times: user 3.34 s, sys: 682 ms, total: 4.02 s\n",
      "Wall time: 4 s\n"
     ]
    }
   ],
   "source": [
    "%%time\n",
    "train, validate, test = split_train_val_test_df(df_plane_numeric, val_size=0, test_size=0.2)\n",
    "print(train.shape)\n",
    "print(validate.shape)\n",
    "print(test.shape)"
   ]
  },
  {
   "cell_type": "code",
   "execution_count": 13,
   "id": "5f7bd67e",
   "metadata": {},
   "outputs": [
    {
     "name": "stdout",
     "output_type": "stream",
     "text": [
      "CPU times: user 225 ms, sys: 21.6 ms, total: 247 ms\n",
      "Wall time: 237 ms\n"
     ]
    }
   ],
   "source": [
    "%%time\n",
    "X_train, y_train = generate_feables(train)\n",
    "X_val, y_val = generate_feables(validate)\n",
    "X_test, y_test = generate_feables(test)"
   ]
  },
  {
   "cell_type": "code",
   "execution_count": 14,
   "id": "8b8908e6",
   "metadata": {},
   "outputs": [],
   "source": [
    "del train, validate, test"
   ]
  },
  {
   "cell_type": "markdown",
   "id": "f023db26",
   "metadata": {},
   "source": [
    "## Training\n",
    "\n",
    "Now we are going to create two pipelines, one of XGBoost and one for LightGBM. The technology behind both libraries is different, so it is difficult to compare them in the exact same model setting. XGBoost grows the trees depth-wise and controls model complexity with `max_depth`. Instead, LightGBM uses a leaf-wise algorithm and controls the model complexity by `num_leaves`. As a tradeoff, we use XGBoost with `max_depth=8`, which will have max number leaves of 255, and compare it with LightGBM with `num_leaves=255`."
   ]
  },
  {
   "cell_type": "code",
   "execution_count": 15,
   "id": "d6ada6b6",
   "metadata": {},
   "outputs": [],
   "source": [
    "results_dict = dict()\n",
    "num_rounds = 200"
   ]
  },
  {
   "cell_type": "markdown",
   "id": "468019e3",
   "metadata": {},
   "source": [
    "Let's start with the XGBoost classifier."
   ]
  },
  {
   "cell_type": "code",
   "execution_count": 16,
   "id": "d2a59e00",
   "metadata": {},
   "outputs": [],
   "source": [
    "xgb_clf_pipeline = xgb.XGBRegressor(max_depth=8,\n",
    "                                    n_estimators=num_rounds,\n",
    "                                    min_child_weight=30,\n",
    "                                    learning_rate=0.1,\n",
    "                                    scale_pos_weight=2,\n",
    "                                    gamma=0.1,\n",
    "                                    reg_lambda=1,\n",
    "                                    subsample=1,\n",
    "                                    n_jobs=-1,\n",
    "                                    random_state=77)"
   ]
  },
  {
   "cell_type": "code",
   "execution_count": 17,
   "id": "6c0aa79b",
   "metadata": {},
   "outputs": [],
   "source": [
    "with Timer() as t:\n",
    "    xgb_clf_pipeline.fit(X_train, y_train)"
   ]
  },
  {
   "cell_type": "code",
   "execution_count": 18,
   "id": "945954a2",
   "metadata": {},
   "outputs": [],
   "source": [
    "results_dict['xgb']={ 'train_time': t.interval }"
   ]
  },
  {
   "cell_type": "markdown",
   "id": "864fb80d",
   "metadata": {},
   "source": [
    "Training XGBoost model with leave-wise growth"
   ]
  },
  {
   "cell_type": "code",
   "execution_count": 19,
   "id": "9cc21d59",
   "metadata": {},
   "outputs": [],
   "source": [
    "xgb_hist_clf_pipeline = xgb.XGBRegressor(max_depth=0,\n",
    "                                        max_leaves=255,\n",
    "                                        n_estimators=num_rounds,\n",
    "                                        min_child_weight=30,\n",
    "                                        learning_rate=0.1,\n",
    "                                        scale_pos_weight=2,\n",
    "                                        gamma=0.1,\n",
    "                                        reg_lambda=1,\n",
    "                                        subsample=1,\n",
    "                                        grow_policy='lossguide',\n",
    "                                        tree_method='hist',\n",
    "                                        n_jobs=-1,\n",
    "                                        random_state=77)"
   ]
  },
  {
   "cell_type": "code",
   "execution_count": 20,
   "id": "e58bf606",
   "metadata": {},
   "outputs": [],
   "source": [
    "with Timer() as t:\n",
    "    xgb_hist_clf_pipeline.fit(X_train, y_train)"
   ]
  },
  {
   "cell_type": "code",
   "execution_count": 21,
   "id": "ea9b7988",
   "metadata": {},
   "outputs": [],
   "source": [
    "results_dict['xgb_hist']={ 'train_time': t.interval }"
   ]
  },
  {
   "cell_type": "markdown",
   "id": "3f5aa60d",
   "metadata": {},
   "source": [
    "Training LightGBM model."
   ]
  },
  {
   "cell_type": "code",
   "execution_count": 22,
   "id": "fffa6942",
   "metadata": {},
   "outputs": [],
   "source": [
    "lgbm_clf_pipeline = lgb.LGBMRegressor(num_leaves=255,\n",
    "                                      n_estimators=num_rounds,\n",
    "                                      min_child_weight=30,\n",
    "                                      learning_rate=0.1,\n",
    "                                      scale_pos_weight=2,\n",
    "                                      min_split_gain=0.1,\n",
    "                                      reg_lambda=1,\n",
    "                                      subsample=1,\n",
    "                                      n_jobs=-1,\n",
    "                                      seed=77)"
   ]
  },
  {
   "cell_type": "code",
   "execution_count": 23,
   "id": "114d86d0",
   "metadata": {},
   "outputs": [],
   "source": [
    "with Timer() as t:\n",
    "    lgbm_clf_pipeline.fit(X_train, y_train)"
   ]
  },
  {
   "cell_type": "code",
   "execution_count": 24,
   "id": "2c37a1f2",
   "metadata": {},
   "outputs": [],
   "source": [
    "results_dict['lgbm']={ 'train_time': t.interval }"
   ]
  },
  {
   "cell_type": "markdown",
   "id": "9aa2bdf5",
   "metadata": {},
   "source": [
    "## Evaluation\n",
    "\n",
    "Now let's evaluate the model in the test set."
   ]
  },
  {
   "cell_type": "code",
   "execution_count": 25,
   "id": "0c131af2",
   "metadata": {},
   "outputs": [],
   "source": [
    "with Timer() as t:\n",
    "    y_prob_xgb = np.clip(xgb_clf_pipeline.predict(X_test), 0.0001, 0.9999)"
   ]
  },
  {
   "cell_type": "code",
   "execution_count": 26,
   "id": "e3f01894",
   "metadata": {},
   "outputs": [],
   "source": [
    "results_dict['xgb']['test_time'] = t.interval"
   ]
  },
  {
   "cell_type": "code",
   "execution_count": 27,
   "id": "7b423c8c",
   "metadata": {},
   "outputs": [],
   "source": [
    "with Timer() as t:\n",
    "    y_prob_xgb_hist = np.clip(xgb_hist_clf_pipeline.predict(X_test), 0.0001, 0.9999)"
   ]
  },
  {
   "cell_type": "code",
   "execution_count": 28,
   "id": "a29bb11b",
   "metadata": {},
   "outputs": [],
   "source": [
    "results_dict['xgb_hist']['test_time'] = t.interval"
   ]
  },
  {
   "cell_type": "code",
   "execution_count": 29,
   "id": "4da7eb8e",
   "metadata": {},
   "outputs": [],
   "source": [
    "with Timer() as t:\n",
    "    y_prob_lgbm = np.clip(lgbm_clf_pipeline.predict(X_test), 0.0001, 0.9999)"
   ]
  },
  {
   "cell_type": "code",
   "execution_count": 30,
   "id": "d3cd7523",
   "metadata": {},
   "outputs": [],
   "source": [
    "results_dict['lgbm']['test_time'] = t.interval"
   ]
  },
  {
   "cell_type": "markdown",
   "id": "df04b9db",
   "metadata": {},
   "source": [
    "## Metrics\n",
    "\n",
    "We are going to obtain some metrics to evaluate the performance of each of the models."
   ]
  },
  {
   "cell_type": "code",
   "execution_count": 31,
   "id": "d22122c9",
   "metadata": {},
   "outputs": [],
   "source": [
    "y_pred_xgb = binarize_prediction(y_prob_xgb)\n",
    "y_pred_xgb_hist = binarize_prediction(y_prob_xgb_hist)\n",
    "y_pred_lgbm = binarize_prediction(y_prob_lgbm)"
   ]
  },
  {
   "cell_type": "code",
   "execution_count": 32,
   "id": "01ba4ba3",
   "metadata": {},
   "outputs": [],
   "source": [
    "report_xgb = classification_metrics_binary(y_test, y_pred_xgb)\n",
    "report2_xgb = classification_metrics_binary_prob(y_test, y_prob_xgb)\n",
    "report_xgb.update(report2_xgb)"
   ]
  },
  {
   "cell_type": "code",
   "execution_count": 33,
   "id": "e37e67ce",
   "metadata": {},
   "outputs": [],
   "source": [
    "results_dict['xgb']['performance'] = report_xgb"
   ]
  },
  {
   "cell_type": "code",
   "execution_count": 34,
   "id": "bc6cf46d",
   "metadata": {},
   "outputs": [],
   "source": [
    "report_xgb_hist = classification_metrics_binary(y_test, y_pred_xgb_hist)\n",
    "report2_xgb_hist = classification_metrics_binary_prob(y_test, y_prob_xgb_hist)\n",
    "report_xgb_hist.update(report2_xgb_hist)"
   ]
  },
  {
   "cell_type": "code",
   "execution_count": 35,
   "id": "5e09b2a5",
   "metadata": {},
   "outputs": [],
   "source": [
    "results_dict['xgb_hist']['performance'] = report_xgb_hist"
   ]
  },
  {
   "cell_type": "code",
   "execution_count": 36,
   "id": "33f6e1ad",
   "metadata": {},
   "outputs": [],
   "source": [
    "report_lgbm = classification_metrics_binary(y_test, y_pred_lgbm)\n",
    "report2_lgbm = classification_metrics_binary_prob(y_test, y_prob_lgbm)\n",
    "report_lgbm.update(report2_lgbm)"
   ]
  },
  {
   "cell_type": "code",
   "execution_count": 37,
   "id": "35c608cc",
   "metadata": {},
   "outputs": [],
   "source": [
    "results_dict['lgbm']['performance'] = report_lgbm"
   ]
  },
  {
   "cell_type": "markdown",
   "id": "c6723e03",
   "metadata": {},
   "source": [
    "## Results"
   ]
  },
  {
   "cell_type": "code",
   "execution_count": 38,
   "id": "bb242fee",
   "metadata": {},
   "outputs": [
    {
     "name": "stdout",
     "output_type": "stream",
     "text": [
      "{\n",
      "    \"lgbm\": {\n",
      "        \"performance\": {\n",
      "            \"AUC\": 0.8867442907165578,\n",
      "            \"Accuracy\": 0.8034565,\n",
      "            \"F1\": 0.8199721636892316,\n",
      "            \"Precision\": 0.8311130298346029,\n",
      "            \"Recall\": 0.8091260279073803\n",
      "        },\n",
      "        \"test_time\": 13.667672777002736,\n",
      "        \"train_time\": 100.18000323400338\n",
      "    },\n",
      "    \"xgb\": {\n",
      "        \"performance\": {\n",
      "            \"AUC\": 0.8630098847547171,\n",
      "            \"Accuracy\": 0.7289615,\n",
      "            \"F1\": 0.7904801844440107,\n",
      "            \"Precision\": 0.6905300362424293,\n",
      "            \"Recall\": 0.9242615968921901\n",
      "        },\n",
      "        \"test_time\": 3.1140623839964974,\n",
      "        \"train_time\": 2579.341359557002\n",
      "    },\n",
      "    \"xgb_hist\": {\n",
      "        \"performance\": {\n",
      "            \"AUC\": 0.6845214380533686,\n",
      "            \"Accuracy\": 0.553596,\n",
      "            \"F1\": 0.7124852669341697,\n",
      "            \"Precision\": 0.5534212556393912,\n",
      "            \"Recall\": 0.9998662296836333\n",
      "        },\n",
      "        \"test_time\": 0.4432450289968983,\n",
      "        \"train_time\": 25.77537098400353\n",
      "    }\n",
      "}\n"
     ]
    }
   ],
   "source": [
    "print(json.dumps(results_dict, indent=4, sort_keys=True))"
   ]
  },
  {
   "cell_type": "code",
   "execution_count": 39,
   "id": "b77d1bf8",
   "metadata": {},
   "outputs": [],
   "source": [
    "del xgb_clf_pipeline, xgb_hist_clf_pipeline, lgbm_clf_pipeline, X_train, X_test, X_val"
   ]
  },
  {
   "cell_type": "markdown",
   "id": "bca31ac8",
   "metadata": {},
   "source": [
    "## Summary\n",
    "\n",
    "The experiments have been conducted on an Intel i7 @ 1.30GHz with 32Gb of RAM.\n",
    "\n",
    "| Airline subsample size | Lib | Training time (s) | Test time (s) | AUC | F1 |\n",
    "|:-----------------------|:----|:-----------------:|:-------------:|:---:|:--:|\n",
    "| 10,000     | xgb      |    2.7050 |   0.0146 | 0.8346 | 0.8010 |\n",
    "| 10,000     | xgb_hist |    0.3963 |   0.0075 | 0.7009 | 0.7478 |\n",
    "| 10,000     | lgb      |    0.2183 |   0.0161 | 0.8264 | 0.7971 |\n",
    "| 100,000    | xgb      |    5.6744 |   0.0432 | 0.9015 | 0.8357 |\n",
    "| 100,000    | xgb_hist |    0.4495 |   0.0265 | 0.7059 | 0.7351 |\n",
    "| 100,000    | lgb      |    0.8666 |   0.1032 | 0.9090 | 0.8564 |\n",
    "| 1,000,000  | xgb      |  106.1552 |   0.2917 | 0.9107 | 0.8401 |\n",
    "| 1,000,000  | xgb_hist |    2.9730 |   0.0463 | 0.7061 | 0.7545 |\n",
    "| 1,000,000  | lgb      |    9.7474 |   1.1421 | 0.9262 | 0.8750 |\n",
    "| 10,000,000 | xgb      | 2579.3413 |   3.1140 | 0.8630 | 0.7904 |\n",
    "| 10,000,000 | xgb_hist |   25.7753 |   0.4432 | 0.6845 | 0.7124 |\n",
    "| 10,000,000 | lgb      |  100.1800 |  13.6676 | 0.8867 | 0.8199 |"
   ]
  },
  {
   "cell_type": "markdown",
   "id": "9decb306",
   "metadata": {},
   "source": [
    "## References\n",
    "* Lessons Learned From Benchmarking Fast Machine Learning Algorithms\n",
    " https://docs.microsoft.com/en-us/archive/blogs/machinelearning/lessons-learned-benchmarking-fast-machine-learning-algorithms\n",
    "* <div class=\"csl-entry\">Chen, T., &#38; Guestrin, C. (2016). XGBoost: A Scalable Tree Boosting System. <i>KDD</i>. https://github.com/dmlc/xgboost</div> \n",
    "* <div class=\"csl-entry\">Ke, G., Meng, Q., Finley, T., Wang, T., Chen, W., Ma, W., Ye, Q., &#38; Liu, T.-Y. (2017). LightGBM: A Highly Efficient Gradient Boosting Decision Tree. <i>NIPS</i>. https://github.com/Microsoft/LightGBM.</div>\n",
    "* Gradient Boosted Decision Trees-Explained https://towardsdatascience.com/gradient-boosted-decision-trees-explained-9259bd8205af"
   ]
  }
 ],
 "metadata": {
  "kernelspec": {
   "display_name": "Python (boosting)",
   "language": "python",
   "name": "boosting"
  },
  "language_info": {
   "codemirror_mode": {
    "name": "ipython",
    "version": 3
   },
   "file_extension": ".py",
   "mimetype": "text/x-python",
   "name": "python",
   "nbconvert_exporter": "python",
   "pygments_lexer": "ipython3",
   "version": "3.8.0"
  }
 },
 "nbformat": 4,
 "nbformat_minor": 5
}
