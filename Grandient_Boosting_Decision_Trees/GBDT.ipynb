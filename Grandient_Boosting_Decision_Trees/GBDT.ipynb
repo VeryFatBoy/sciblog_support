{
 "cells": [
  {
   "cell_type": "markdown",
   "id": "2330dbe5",
   "metadata": {},
   "source": [
    "# Gradient Boosting Decision Trees"
   ]
  },
  {
   "cell_type": "code",
   "execution_count": 1,
   "id": "32d73ac9",
   "metadata": {},
   "outputs": [
    {
     "name": "stdout",
     "output_type": "stream",
     "text": [
      "Numpy version:1.22.3\n",
      "Pandas version:1.4.1\n",
      "Sklearn version:1.0.2\n",
      "LightGBM version:3.3.2\n",
      "XGBoost version:1.5.2\n"
     ]
    }
   ],
   "source": [
    "import warnings \n",
    "warnings.filterwarnings (\"ignore\")\n",
    "\n",
    "import numpy as np\n",
    "import pandas as pd\n",
    "import sklearn\n",
    "import lightgbm as lgb\n",
    "import xgboost as xgb\n",
    "\n",
    "from utils import load_airline, convert_related_cols_categorical_to_numeric\n",
    "\n",
    "print(f\"Numpy version:{np.__version__}\")\n",
    "print(f\"Pandas version:{pd.__version__}\")\n",
    "print(f\"Sklearn version:{sklearn.__version__}\")\n",
    "print(f\"LightGBM version:{lgb.__version__}\")\n",
    "print(f\"XGBoost version:{xgb.__version__}\")"
   ]
  },
  {
   "cell_type": "markdown",
   "id": "29259979",
   "metadata": {},
   "source": [
    "## Airline dataset\n",
    "\n",
    "```bash\n",
    "cd data\n",
    "wget http://kt.ijs.si/elena_ikonomovska/datasets/airline/airline_14col.data.bz2\n",
    "bzip2 -dk airline_14col.data.bz2\n",
    "```"
   ]
  },
  {
   "cell_type": "code",
   "execution_count": null,
   "id": "0add5df7",
   "metadata": {},
   "outputs": [],
   "source": [
    "%%time\n",
    "df_plane = load_airline()\n",
    "print(df_plane.shape)"
   ]
  },
  {
   "cell_type": "code",
   "execution_count": null,
   "id": "197c8369",
   "metadata": {},
   "outputs": [],
   "source": [
    "df_plane.head()"
   ]
  },
  {
   "cell_type": "code",
   "execution_count": null,
   "id": "7f96ce9a",
   "metadata": {},
   "outputs": [],
   "source": []
  }
 ],
 "metadata": {
  "kernelspec": {
   "display_name": "Python (boosting)",
   "language": "python",
   "name": "boosting"
  },
  "language_info": {
   "codemirror_mode": {
    "name": "ipython",
    "version": 3
   },
   "file_extension": ".py",
   "mimetype": "text/x-python",
   "name": "python",
   "nbconvert_exporter": "python",
   "pygments_lexer": "ipython3",
   "version": "3.8.0"
  }
 },
 "nbformat": 4,
 "nbformat_minor": 5
}
